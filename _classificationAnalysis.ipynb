{
 "cells": [
  {
   "cell_type": "markdown",
   "metadata": {},
   "source": [
    "# Prediction"
   ]
  },
  {
   "cell_type": "markdown",
   "metadata": {
    "collapsed": true
   },
   "source": [
    "## Data"
   ]
  },
  {
   "cell_type": "code",
   "execution_count": 1,
   "metadata": {
    "collapsed": true,
    "scrolled": true
   },
   "outputs": [],
   "source": [
    "import datetime\n",
    "import time\n",
    "from dateutil.relativedelta import relativedelta\n",
    "from bs4 import BeautifulSoup\n",
    "import pandas as pd\n",
    "import requests\n",
    "import numpy as np\n",
    "import json\n",
    "import matplotlib.pyplot as plt\n",
    "import seaborn as sns\n",
    "\n",
    "% matplotlib inline"
   ]
  },
  {
   "cell_type": "markdown",
   "metadata": {},
   "source": [
    "##### Plotting"
   ]
  },
  {
   "cell_type": "code",
   "execution_count": 2,
   "metadata": {
    "collapsed": false
   },
   "outputs": [
    {
     "data": {
      "text/plain": [
       "<matplotlib.figure.Figure at 0xb877db0>"
      ]
     },
     "metadata": {},
     "output_type": "display_data"
    }
   ],
   "source": [
    "plt.figure(figsize = (6, 4))\n",
    "sns.set_style(\"whitegrid\", {'axes.linewidth': 1.5})\n",
    "sns.set_context(\"notebook\", font_scale = 1.5, rc = {\"lines.linewidth\": 2.5})\n",
    "# context = talk"
   ]
  },
  {
   "cell_type": "markdown",
   "metadata": {},
   "source": [
    "#### Wunderground - weather data"
   ]
  },
  {
   "cell_type": "code",
   "execution_count": 3,
   "metadata": {
    "collapsed": true,
    "scrolled": true
   },
   "outputs": [],
   "source": [
    "start_date = datetime.datetime(2011,9,1)\n",
    "end_date = datetime.datetime(2017,3,1)\n",
    "places = ['NYC', 'LONDON', 'RJTD']\n",
    "# RJTD = Tokyo, Japan\n",
    "\n",
    "def diff_month(d1, d2):\n",
    "    return (d1.year - d2.year) * 12 + d1.month - d2.month\n",
    "\n",
    "nm_days = [31, 28, 31, 30, 31, 30, 31, 31, 30, 31, 30, 31]\n",
    "leap_years = [2012, 2016]"
   ]
  },
  {
   "cell_type": "code",
   "execution_count": 4,
   "metadata": {
    "collapsed": false,
    "scrolled": true
   },
   "outputs": [
    {
     "name": "stdout",
     "output_type": "stream",
     "text": [
      "NYC is ready\n",
      "--- 148.27323246002197 seconds ---\n",
      "LONDON is ready\n",
      "--- 146.0302231311798 seconds ---\n",
      "RJTD is ready\n",
      "--- 138.14222693443298 seconds ---\n"
     ]
    }
   ],
   "source": [
    "for place in places:\n",
    "    start_time = time.time()\n",
    "    exec(\"pres_low_{} = pd.Series()\".format(place))\n",
    "    exec(\"pres_avg_{} = pd.Series()\".format(place))\n",
    "    exec(\"pres_high_{} = pd.Series()\".format(place))\n",
    "    \n",
    "    for i in range(0, (diff_month(end_date, start_date)) + 1):\n",
    "        year = (start_date + relativedelta(months = +i)).year\n",
    "        month = (start_date + relativedelta(months = +i)).month\n",
    "\n",
    "        page = open('weather/{}/wunderground_{}_{}_{}.txt'.format(place, place, year, month), 'r')\n",
    "        soup = BeautifulSoup(page, 'html.parser')\n",
    "\n",
    "        table = soup.find('table', attrs = {\"class\" : \"responsive obs-table daily\"})\n",
    "        rows = table.findAll('tr')\n",
    "\n",
    "        monthly_history =[]\n",
    "        for tr in rows:\n",
    "            cols = tr.findAll('td')\n",
    "            text_data = []\n",
    "            for td in cols:\n",
    "                monthly_history.append(td.text.strip())\n",
    "\n",
    "        if year in leap_years and month == 2:\n",
    "            days = nm_days[month - 1] + 1\n",
    "        else:\n",
    "            days = nm_days[month - 1]\n",
    "\n",
    "        df = pd.DataFrame()\n",
    "        labels = monthly_history[0:21]\n",
    "\n",
    "        for row in range(1, (days + 1)):\n",
    "            for col in range(0, 21):\n",
    "                df.loc[row, col] = monthly_history[21*row + col]\n",
    "\n",
    "        df.columns = labels\n",
    "\n",
    "        df['year'] = year\n",
    "        df['month'] = month\n",
    "        df['day'] = df.iloc[:,0]\n",
    "        df['date'] = pd.to_datetime(df[['year', 'month', 'day']])\n",
    "        df = df.set_index('date')\n",
    "\n",
    "        exec(\"pres_low_{} = pres_low_{}.append(pd.Series(df.iloc[:, 10]))\".format(place, place))\n",
    "        exec(\"pres_avg_{} = pres_avg_{}.append(pd.Series(df.iloc[:, 11]))\".format(place, place))\n",
    "        exec(\"pres_high_{} = pres_high_{}.append(pd.Series(df.iloc[:, 12]))\".format(place, place))\n",
    "        \n",
    "    exec(\"print('{} is ready')\".format(place))\n",
    "    print(\"--- %s seconds ---\" % (time.time() - start_time))"
   ]
  },
  {
   "cell_type": "code",
   "execution_count": 5,
   "metadata": {
    "collapsed": false
   },
   "outputs": [],
   "source": [
    "for place in places:\n",
    "    exec(\"df_pres{} = pd.concat([pres_high_{}, pres_avg_{}, pres_low_{}], axis = 1)\".format(place, place, place, place))\n",
    "    exec(\"df_pres{}.columns = ['low_{}', 'avg_{}', 'high_{}']\".format(place, place, place, place))\n",
    "    exec(\"df_pres{} = df_pres{}.replace('-', np.nan)\".format(place, place))"
   ]
  },
  {
   "cell_type": "code",
   "execution_count": 6,
   "metadata": {
    "collapsed": false
   },
   "outputs": [],
   "source": [
    "df_presNYC = df_presNYC.astype(float).interpolate(method = 'linear')\n",
    "df_presRJTD = df_presRJTD.replace(np.nan, 0)"
   ]
  },
  {
   "cell_type": "code",
   "execution_count": 7,
   "metadata": {
    "collapsed": false
   },
   "outputs": [],
   "source": [
    "for place in places:    \n",
    "    exec(\"df_pres{}['in_day_diff1_{}'] = df_pres{}.high_{}.astype(float) - df_pres{}.avg_{}.astype(float)\"\\\n",
    "         .format(place, place, place, place, place, place))\n",
    "    exec(\"df_pres{}['in_day_diff2_{}'] = df_pres{}.low_{}.astype(float) - df_pres{}.avg_{}.astype(float)\"\\\n",
    "         .format(place, place, place, place, place, place))\n",
    "    exec(\"df_pres{}['between_days_diff_{}'] = df_pres{}.low_{}.astype(float) - df_pres{}.high_{}.shift(1).astype(float)\"\\\n",
    "         .format(place, place, place, place, place, place))\n",
    "    exec(\"df_pres{}['between_weeks_diff_{}'] = df_pres{}.low_{}.astype(float) - df_pres{}.high_{}.shift(7).astype(float)\"\\\n",
    "         .format(place, place, place, place, place, place))\n",
    "    exec(\"df_pres{} = df_pres{}.bfill()\".format(place, place))\n",
    "    exec(\"df_pres{} = df_pres{}.drop(['low_{}', 'avg_{}', 'high_{}'], 1)\".format(place, place, place, place, place))\n",
    "    # exec(\"df_pres{} = df_pres{}.replace(np.nan, 0)\".format(place, place))"
   ]
  },
  {
   "cell_type": "markdown",
   "metadata": {},
   "source": [
    "#### Bitcoincharts"
   ]
  },
  {
   "cell_type": "code",
   "execution_count": 8,
   "metadata": {
    "collapsed": false,
    "scrolled": true
   },
   "outputs": [],
   "source": [
    "charts = ['bitbay', 'bitkonan', 'bitstamp', 'hitbtc', 'itbit', 'kraken', 'localbtc', 'rock']\n",
    "data = {}\n",
    "labels = ['Timestamp', 'Open', 'High', 'Low', 'Close', 'Volume (BTC)', 'Volume (Currency)', 'Weighted Price']\n",
    "\n",
    "for index, chart in enumerate(charts): \n",
    "    exec(\"with open('data/{}.json') as fi: data[chart] = json.load(fi)\".format(chart)) \n",
    "    exec(\"df{} = pd.DataFrame.from_records(data[chart], columns = labels)\".format(index))\n",
    "    exec(\"df{}['Date'] = pd.to_datetime(df{}['Timestamp'], unit = 's')\".format(index, index))\n",
    "    exec(\"df{}.set_index('Date', inplace = True)\".format(index))\n",
    "    exec(\"df{}.drop('Timestamp', 1, inplace = True)\".format(index))\n",
    "    exec(\"df{} = df{}.replace(1.7e+308, np.nan)\".format(index, index))"
   ]
  },
  {
   "cell_type": "markdown",
   "metadata": {},
   "source": [
    "***"
   ]
  },
  {
   "cell_type": "markdown",
   "metadata": {},
   "source": [
    "## Model"
   ]
  },
  {
   "cell_type": "code",
   "execution_count": 9,
   "metadata": {
    "collapsed": false
   },
   "outputs": [],
   "source": [
    "from sklearn import metrics\n",
    "from sklearn import linear_model, tree, neighbors"
   ]
  },
  {
   "cell_type": "markdown",
   "metadata": {},
   "source": [
    "### Preprocessing"
   ]
  },
  {
   "cell_type": "code",
   "execution_count": 10,
   "metadata": {
    "collapsed": false
   },
   "outputs": [],
   "source": [
    "df = df2.copy()\n",
    "df = df.loc[:, ('Close', 'Open')]\n",
    "df = df.interpolate(method = 'linear')\n",
    "\n",
    "df['dayofweek'] = df.index.map(lambda x: x.dayofweek)\n",
    "df['doy'] = df.index.map(lambda x: x.dayofyear)\n",
    "df['month'] = df.index.map(lambda x: x.month)\n",
    "df['woy'] = df.index.map(lambda x: x.weekofyear)\n",
    "df['qrt'] = df.index.map(lambda x: x.quarter)\n",
    "\n",
    "df = pd.concat([df, df_presNYC, df_presLONDON, df_presRJTD], axis = 1)\n",
    "df = df.ix['2013-01-01':]\n",
    "\n",
    "df['weight'] = abs(df.Close.diff())\n",
    "\n",
    "for s in [3, 7, 14]:\n",
    "    df['weight{}'.format(s)] = df.weight.shift(s)\n",
    "df = df.bfill()"
   ]
  },
  {
   "cell_type": "code",
   "execution_count": 11,
   "metadata": {
    "collapsed": true
   },
   "outputs": [],
   "source": [
    "df_class = df.copy()\n",
    "\n",
    "df_class['target'] = df_class.Close.diff()\n",
    "\n",
    "df_class.loc[df_class.target >= 0, 'target'] = 1\n",
    "df_class.loc[df_class.target < 0, 'target'] = -1\n",
    "\n",
    "df_class = df_class.replace(np.nan, 1)"
   ]
  },
  {
   "cell_type": "markdown",
   "metadata": {},
   "source": [
    "***"
   ]
  },
  {
   "cell_type": "code",
   "execution_count": 12,
   "metadata": {
    "collapsed": true
   },
   "outputs": [],
   "source": [
    "start = '2016-01-01'\n",
    "train = df_class[df_class.index < start]\n",
    "val = df_class[start:]\n",
    "\n",
    "y_train = train.target\n",
    "y_val = val.target\n",
    "\n",
    "del train['Close']\n",
    "del val['Close']\n",
    "\n",
    "del train['target']\n",
    "del val['target']\n",
    "\n",
    "del train['weight']\n",
    "del val['weight']"
   ]
  },
  {
   "cell_type": "raw",
   "metadata": {
    "collapsed": false
   },
   "source": [
    "features = []\n",
    "train = train[features]\n",
    "val = val[features]"
   ]
  },
  {
   "cell_type": "code",
   "execution_count": 13,
   "metadata": {
    "collapsed": false
   },
   "outputs": [
    {
     "name": "stdout",
     "output_type": "stream",
     "text": [
      "Model accuracy: 0.434, precision: 0.586, AUC: 0.498\n"
     ]
    }
   ],
   "source": [
    "models = [linear_model.LogisticRegression(penalty = 'l1')]\n",
    "#tree.DecisionTreeClassifier(criterion = 'entropy', max_depth = 10)]\n",
    "#neighbors.KNeighborsClassifier(n_neighbors = 10)\n",
    "\n",
    "for model in models:\n",
    "    model.fit(train, y_train)\n",
    "    pred = model.predict(val)\n",
    "    print('Model accuracy: %.3f, precision: %.3f, AUC: %.3f' %\\\n",
    "          (metrics.accuracy_score(y_val, pred), metrics.precision_score(y_val, pred), metrics.roc_auc_score(y_val, pred)))"
   ]
  },
  {
   "cell_type": "code",
   "execution_count": 14,
   "metadata": {
    "collapsed": false
   },
   "outputs": [],
   "source": [
    "res = pd.DataFrame()\n",
    "res['true'] = y_val\n",
    "res['pred'] = pred"
   ]
  },
  {
   "cell_type": "code",
   "execution_count": 15,
   "metadata": {
    "collapsed": false
   },
   "outputs": [
    {
     "data": {
      "text/plain": [
       "<matplotlib.axes._subplots.AxesSubplot at 0xd68cf10>"
      ]
     },
     "execution_count": 15,
     "metadata": {},
     "output_type": "execute_result"
    },
    {
     "data": {
      "image/png": "[encoded data removed]",
      "text/plain": [
       "<matplotlib.figure.Figure at 0xd727650>"
      ]
     },
     "metadata": {},
     "output_type": "display_data"
    }
   ],
   "source": [
    "pd.Series(model.coef_[0], index = train.columns).plot(kind = 'bar')"
   ]
  },
  {
   "cell_type": "code",
   "execution_count": 16,
   "metadata": {
    "collapsed": false
   },
   "outputs": [
    {
     "data": {
      "image/png": "[encoded data removed]",
      "text/plain": [
       "<matplotlib.figure.Figure at 0xdb5bdf0>"
      ]
     },
     "metadata": {},
     "output_type": "display_data"
    }
   ],
   "source": [
    "y_score = model.fit(train, y_train).decision_function(val)\n",
    "\n",
    "fpr, tpr, _ = metrics.roc_curve(y_val, y_score) # false positive és true pozitív ráta számítása\n",
    "roc_auc = metrics.auc(fpr, tpr) # görbe alatti terület számítása\n",
    "\n",
    "plt.figure()\n",
    "lw = 2\n",
    "plt.plot(fpr, tpr, color='darkorange', lw = lw, label = 'ROC curve (area = %0.2f)' % roc_auc)\n",
    "plt.plot([0, 1], [0, 1], color = 'navy', lw = lw, linestyle = '--')\n",
    "plt.xlim([0.0, 1.0])\n",
    "plt.ylim([0.0, 1.05])\n",
    "plt.xlabel('False Positive Rate')\n",
    "plt.ylabel('True Positive Rate')\n",
    "plt.title('Receiver operating characteristic')\n",
    "plt.legend(loc = \"lower right\")\n",
    "plt.show()"
   ]
  },
  {
   "cell_type": "code",
   "execution_count": null,
   "metadata": {
    "collapsed": true
   },
   "outputs": [],
   "source": []
  },
  {
   "cell_type": "code",
   "execution_count": null,
   "metadata": {
    "collapsed": true
   },
   "outputs": [],
   "source": []
  }
 ],
 "metadata": {
  "kernelspec": {
   "display_name": "Python 3",
   "language": "python",
   "name": "python3"
  },
  "language_info": {
   "codemirror_mode": {
    "name": "ipython",
    "version": 3
   },
   "file_extension": ".py",
   "mimetype": "text/x-python",
   "name": "python",
   "nbconvert_exporter": "python",
   "pygments_lexer": "ipython3",
   "version": "3.6.0"
  }
 },
 "nbformat": 4,
 "nbformat_minor": 2
}
